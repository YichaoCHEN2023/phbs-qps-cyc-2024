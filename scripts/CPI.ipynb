{
 "cells": [
  {
   "cell_type": "code",
   "execution_count": 5,
   "metadata": {},
   "outputs": [
    {
     "name": "stdout",
     "output_type": "stream",
     "text": [
      "Last Four Quarters of Inflation in the US:\n",
      "            CPIAUCSL\n",
      "DATE                \n",
      "2024-03-31  1.129746\n",
      "2024-06-30  0.262307\n",
      "2024-09-30  0.522921\n",
      "2024-12-31  0.244053\n"
     ]
    },
    {
     "name": "stderr",
     "output_type": "stream",
     "text": [
      "C:\\Users\\Eleven最沉着\\AppData\\Local\\Temp\\ipykernel_15264\\2202445495.py:18: FutureWarning: 'Q' is deprecated and will be removed in a future version, please use 'QE' instead.\n",
      "  cpi_quarterly = cpi_data.resample('Q').last()\n"
     ]
    }
   ],
   "source": [
    "import pandas as pd\n",
    "from pandas_datareader import data as pdr\n",
    "import datetime\n",
    "\n",
    "def fetch_inflation_data():\n",
    "    # Define the CPI series code for All Urban Consumers\n",
    "    cpi_code = 'CPIAUCSL'\n",
    "    \n",
    "    # Set the end date as today\n",
    "    end_date = datetime.datetime.today()\n",
    "    # Set the start date as one year before the end date\n",
    "    start_date = end_date - datetime.timedelta(days=365)\n",
    "    \n",
    "    # Fetch the CPI data from FRED\n",
    "    cpi_data = pdr.get_data_fred(cpi_code, start=start_date, end=end_date)\n",
    "    \n",
    "    # Resample to quarterly data by taking the last observation in each quarter\n",
    "    cpi_quarterly = cpi_data.resample('Q').last()\n",
    "    \n",
    "    # Calculate quarterly percentage change (inflation)\n",
    "    inflation_quarterly = cpi_quarterly.pct_change().mul(100)\n",
    "    \n",
    "    # Get the last four quarters of inflation\n",
    "    last_four_quarters = inflation_quarterly.tail(4)\n",
    "    \n",
    "    # Print the results\n",
    "    print(\"Last Four Quarters of Inflation in the US:\")\n",
    "    print(last_four_quarters)\n",
    "\n",
    "if __name__ == \"__main__\":\n",
    "    fetch_inflation_data()"
   ]
  }
 ],
 "metadata": {
  "kernelspec": {
   "display_name": "cyc39",
   "language": "python",
   "name": "python3"
  },
  "language_info": {
   "codemirror_mode": {
    "name": "ipython",
    "version": 3
   },
   "file_extension": ".py",
   "mimetype": "text/x-python",
   "name": "python",
   "nbconvert_exporter": "python",
   "pygments_lexer": "ipython3",
   "version": "3.9.19"
  }
 },
 "nbformat": 4,
 "nbformat_minor": 2
}
